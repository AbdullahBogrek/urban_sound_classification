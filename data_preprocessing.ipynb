{
 "cells": [
  {
   "cell_type": "markdown",
   "metadata": {},
   "source": [
    "# Urban Sounds Classification\n",
    "\n",
    "A numeric identifier of the sound class:\n",
    "* 0 = air_conditioner\n",
    "* 1 = car_horn\n",
    "* 2 = children_playing\n",
    "* 3 = dog_bark\n",
    "* 4 = drilling\n",
    "* 5 = engine_idling\n",
    "* 6 = gun_shot\n",
    "* 7 = jackhammer\n",
    "* 8 = siren\n",
    "* 9 = street_music"
   ]
  },
  {
   "cell_type": "code",
   "execution_count": 47,
   "metadata": {},
   "outputs": [
    {
     "data": {
      "text/html": [
       "<div>\n",
       "<style scoped>\n",
       "    .dataframe tbody tr th:only-of-type {\n",
       "        vertical-align: middle;\n",
       "    }\n",
       "\n",
       "    .dataframe tbody tr th {\n",
       "        vertical-align: top;\n",
       "    }\n",
       "\n",
       "    .dataframe thead th {\n",
       "        text-align: right;\n",
       "    }\n",
       "</style>\n",
       "<table border=\"1\" class=\"dataframe\">\n",
       "  <thead>\n",
       "    <tr style=\"text-align: right;\">\n",
       "      <th></th>\n",
       "      <th>slice_file_name</th>\n",
       "      <th>fsID</th>\n",
       "      <th>start</th>\n",
       "      <th>end</th>\n",
       "      <th>salience</th>\n",
       "      <th>fold</th>\n",
       "      <th>classID</th>\n",
       "      <th>class</th>\n",
       "    </tr>\n",
       "  </thead>\n",
       "  <tbody>\n",
       "    <tr>\n",
       "      <th>0</th>\n",
       "      <td>100032-3-0-0.wav</td>\n",
       "      <td>100032</td>\n",
       "      <td>0.000000</td>\n",
       "      <td>0.317551</td>\n",
       "      <td>1</td>\n",
       "      <td>5</td>\n",
       "      <td>3</td>\n",
       "      <td>dog_bark</td>\n",
       "    </tr>\n",
       "    <tr>\n",
       "      <th>1</th>\n",
       "      <td>100263-2-0-117.wav</td>\n",
       "      <td>100263</td>\n",
       "      <td>58.500000</td>\n",
       "      <td>62.500000</td>\n",
       "      <td>1</td>\n",
       "      <td>5</td>\n",
       "      <td>2</td>\n",
       "      <td>children_playing</td>\n",
       "    </tr>\n",
       "    <tr>\n",
       "      <th>2</th>\n",
       "      <td>100263-2-0-121.wav</td>\n",
       "      <td>100263</td>\n",
       "      <td>60.500000</td>\n",
       "      <td>64.500000</td>\n",
       "      <td>1</td>\n",
       "      <td>5</td>\n",
       "      <td>2</td>\n",
       "      <td>children_playing</td>\n",
       "    </tr>\n",
       "    <tr>\n",
       "      <th>3</th>\n",
       "      <td>100263-2-0-126.wav</td>\n",
       "      <td>100263</td>\n",
       "      <td>63.000000</td>\n",
       "      <td>67.000000</td>\n",
       "      <td>1</td>\n",
       "      <td>5</td>\n",
       "      <td>2</td>\n",
       "      <td>children_playing</td>\n",
       "    </tr>\n",
       "    <tr>\n",
       "      <th>4</th>\n",
       "      <td>100263-2-0-137.wav</td>\n",
       "      <td>100263</td>\n",
       "      <td>68.500000</td>\n",
       "      <td>72.500000</td>\n",
       "      <td>1</td>\n",
       "      <td>5</td>\n",
       "      <td>2</td>\n",
       "      <td>children_playing</td>\n",
       "    </tr>\n",
       "    <tr>\n",
       "      <th>...</th>\n",
       "      <td>...</td>\n",
       "      <td>...</td>\n",
       "      <td>...</td>\n",
       "      <td>...</td>\n",
       "      <td>...</td>\n",
       "      <td>...</td>\n",
       "      <td>...</td>\n",
       "      <td>...</td>\n",
       "    </tr>\n",
       "    <tr>\n",
       "      <th>8727</th>\n",
       "      <td>99812-1-2-0.wav</td>\n",
       "      <td>99812</td>\n",
       "      <td>159.522205</td>\n",
       "      <td>163.522205</td>\n",
       "      <td>2</td>\n",
       "      <td>7</td>\n",
       "      <td>1</td>\n",
       "      <td>car_horn</td>\n",
       "    </tr>\n",
       "    <tr>\n",
       "      <th>8728</th>\n",
       "      <td>99812-1-3-0.wav</td>\n",
       "      <td>99812</td>\n",
       "      <td>181.142431</td>\n",
       "      <td>183.284976</td>\n",
       "      <td>2</td>\n",
       "      <td>7</td>\n",
       "      <td>1</td>\n",
       "      <td>car_horn</td>\n",
       "    </tr>\n",
       "    <tr>\n",
       "      <th>8729</th>\n",
       "      <td>99812-1-4-0.wav</td>\n",
       "      <td>99812</td>\n",
       "      <td>242.691902</td>\n",
       "      <td>246.197885</td>\n",
       "      <td>2</td>\n",
       "      <td>7</td>\n",
       "      <td>1</td>\n",
       "      <td>car_horn</td>\n",
       "    </tr>\n",
       "    <tr>\n",
       "      <th>8730</th>\n",
       "      <td>99812-1-5-0.wav</td>\n",
       "      <td>99812</td>\n",
       "      <td>253.209850</td>\n",
       "      <td>255.741948</td>\n",
       "      <td>2</td>\n",
       "      <td>7</td>\n",
       "      <td>1</td>\n",
       "      <td>car_horn</td>\n",
       "    </tr>\n",
       "    <tr>\n",
       "      <th>8731</th>\n",
       "      <td>99812-1-6-0.wav</td>\n",
       "      <td>99812</td>\n",
       "      <td>332.289233</td>\n",
       "      <td>334.821332</td>\n",
       "      <td>2</td>\n",
       "      <td>7</td>\n",
       "      <td>1</td>\n",
       "      <td>car_horn</td>\n",
       "    </tr>\n",
       "  </tbody>\n",
       "</table>\n",
       "<p>8732 rows × 8 columns</p>\n",
       "</div>"
      ],
      "text/plain": [
       "         slice_file_name    fsID       start         end  salience  fold  \\\n",
       "0       100032-3-0-0.wav  100032    0.000000    0.317551         1     5   \n",
       "1     100263-2-0-117.wav  100263   58.500000   62.500000         1     5   \n",
       "2     100263-2-0-121.wav  100263   60.500000   64.500000         1     5   \n",
       "3     100263-2-0-126.wav  100263   63.000000   67.000000         1     5   \n",
       "4     100263-2-0-137.wav  100263   68.500000   72.500000         1     5   \n",
       "...                  ...     ...         ...         ...       ...   ...   \n",
       "8727     99812-1-2-0.wav   99812  159.522205  163.522205         2     7   \n",
       "8728     99812-1-3-0.wav   99812  181.142431  183.284976         2     7   \n",
       "8729     99812-1-4-0.wav   99812  242.691902  246.197885         2     7   \n",
       "8730     99812-1-5-0.wav   99812  253.209850  255.741948         2     7   \n",
       "8731     99812-1-6-0.wav   99812  332.289233  334.821332         2     7   \n",
       "\n",
       "      classID             class  \n",
       "0           3          dog_bark  \n",
       "1           2  children_playing  \n",
       "2           2  children_playing  \n",
       "3           2  children_playing  \n",
       "4           2  children_playing  \n",
       "...       ...               ...  \n",
       "8727        1          car_horn  \n",
       "8728        1          car_horn  \n",
       "8729        1          car_horn  \n",
       "8730        1          car_horn  \n",
       "8731        1          car_horn  \n",
       "\n",
       "[8732 rows x 8 columns]"
      ]
     },
     "execution_count": 47,
     "metadata": {},
     "output_type": "execute_result"
    }
   ],
   "source": [
    "import pandas as pd\n",
    "\n",
    "df = pd.read_csv(\"./UrbanSound8K.csv\")\n",
    "df"
   ]
  },
  {
   "cell_type": "code",
   "execution_count": 48,
   "metadata": {},
   "outputs": [
    {
     "name": "stdout",
     "output_type": "stream",
     "text": [
      "<class 'pandas.core.frame.DataFrame'>\n",
      "RangeIndex: 8732 entries, 0 to 8731\n",
      "Data columns (total 8 columns):\n",
      " #   Column           Non-Null Count  Dtype  \n",
      "---  ------           --------------  -----  \n",
      " 0   slice_file_name  8732 non-null   object \n",
      " 1   fsID             8732 non-null   int64  \n",
      " 2   start            8732 non-null   float64\n",
      " 3   end              8732 non-null   float64\n",
      " 4   salience         8732 non-null   int64  \n",
      " 5   fold             8732 non-null   int64  \n",
      " 6   classID          8732 non-null   int64  \n",
      " 7   class            8732 non-null   object \n",
      "dtypes: float64(2), int64(4), object(2)\n",
      "memory usage: 545.9+ KB\n"
     ]
    }
   ],
   "source": [
    "df.info()"
   ]
  },
  {
   "cell_type": "markdown",
   "metadata": {},
   "source": [
    "Aşağıdaki kod bloğunda da görüldüğü gibi veri seti içerisinde herhangi bir eksik değer bulunmamaktadır."
   ]
  },
  {
   "cell_type": "code",
   "execution_count": null,
   "metadata": {},
   "outputs": [],
   "source": [
    "df.isnull().sum()"
   ]
  },
  {
   "cell_type": "markdown",
   "metadata": {},
   "source": [
    "Veri dağılımı aşağıda da görüldüğü gibi eşit değildir. Bu veri seti ile eğiten bir modelin gun_shot sesini doğru tahmin etme olasılığı en düşüktür. Bundan dolayı veri ön işlenirken ve model oluşturulurken buna dikkat edilmelidir. Veri buna göre manipüle edilmelidir."
   ]
  },
  {
   "cell_type": "code",
   "execution_count": null,
   "metadata": {},
   "outputs": [],
   "source": [
    "df['class'].value_counts()"
   ]
  },
  {
   "cell_type": "markdown",
   "metadata": {},
   "source": [
    "**Opencv** kütüphanesi, specktrogramları okumak, renk uzayını değiştirmek, yeniden boyutlandırmak ve normalize etmek için kullanılmıştır.\n",
    "\n",
    "**OS** modülü, spektrogramların dosya yolunu bulmak, yeni dosyaya kaydetmek için kullanılmıştır.\n",
    "\n",
    "**Random** modülü, görüntü-etiket şeklinde oluşturulan liste'nin içerisindeki verilerin sırasını random olacak şekilde karıştırarak bias ve varyans'ı minimize etmek için kullanılmıştır.\n",
    "\n",
    "**Pandas** kütüphanesi, dataframe oluşturarak liste'lerden daha hızlı işlemler yapmak için kullanılmıştır.\n",
    "\n",
    "**Numpy** kütüphanesi, dizi manipülasyon işlemleri için kullanılmıştır.\n",
    "\n",
    "**Tensorflow** ve **Keras** kütüphaneleri, CNN modeli oluşturmak, label encoding ve model sonuçlarını gözlemlemek için kullanılmıştır."
   ]
  },
  {
   "cell_type": "code",
   "execution_count": null,
   "metadata": {},
   "outputs": [],
   "source": [
    "import cv2\n",
    "import os\n",
    "from os import makedirs\n",
    "from os.path import join    \n",
    "import random\n",
    "import pandas as pd\n",
    "import numpy as np\n",
    "import tensorflow as tf\n",
    "from keras.models import Sequential\n",
    "from keras.layers import Dense, Dropout, Activation, Flatten\n",
    "from keras.layers import Convolution2D, Conv2D, MaxPooling2D, GlobalAveragePooling2D\n",
    "from keras.optimizers import Adam\n",
    "from keras.utils import np_utils\n",
    "from tensorflow.keras.utils import to_categorical\n",
    "from sklearn import metrics "
   ]
  },
  {
   "cell_type": "markdown",
   "metadata": {},
   "source": [
    "Spektrogramları yeniden boyutlandırmak, normalize etmek ve grayscale etmek için her bir işlem fonksiyonlara ayrılmıştır. Veri seti içerisinde görsellerin sol ve alt kısımlarında 3 piksellik beyaz bir çizgi bulunmaktadır. Model eğitimindeki başarıyı artırmak için bu çizgiler resize_img fonksiyonunda spektrogramlar yeniden boyutlandırılarak kaldırılmıştır."
   ]
  },
  {
   "cell_type": "code",
   "execution_count": null,
   "metadata": {},
   "outputs": [],
   "source": [
    "def normalize_img(img):\n",
    "    result = cv2.normalize(img, None, 0, 225, norm_type=cv2.NORM_MINMAX)\n",
    "    return result\n",
    "\n",
    "def resize_img(img):\n",
    "    dim = (128, 128)\n",
    "\n",
    "    resized = resized[0:resized.shape[0] - 3, 3:resized.shape[1]] # clearing whiteness in the bottom and left frame of the image\n",
    "    resized = cv2.resize(img, dim, interpolation = cv2.INTER_AREA) # resize image by scale percent\n",
    "    return resized"
   ]
  },
  {
   "cell_type": "markdown",
   "metadata": {},
   "source": [
    "Gri renk uzayına çevrilen görüntü, yeniden boyutlandırıldıktan sonra normalize edilip yeni klasöre kaydedilmektedir. Bu sırada yeni görüntü ve label değeri `data_list` isimli listeye kaydedilmektedir."
   ]
  },
  {
   "cell_type": "code",
   "execution_count": null,
   "metadata": {},
   "outputs": [],
   "source": [
    "def convert_image(source_path, dest_path, data_list):\n",
    "    image = cv2.imread(source_path)\n",
    "    image_gray = cv2.cvtColor(image, cv2.COLOR_BGR2GRAY)\n",
    "\n",
    "    resized_img = resize_img(image_gray)\n",
    "    \n",
    "    normalized_img = normalize_img(resized_img) # normalized the resized image\n",
    "\n",
    "    class_id = dest_path.split(\"-\")[1]\n",
    "    data_list = data_list.append([normalized_img, class_id])\n",
    "\n",
    "    cv2.imwrite(dest_path, normalized_img) # save normalized img to destination directory"
   ]
  },
  {
   "cell_type": "markdown",
   "metadata": {},
   "source": [
    "Veri seti, `spectrograms` klösürü içerisinde label değerlerine göre klasörlenmiştir. Bu verileri sırası ile okunup gerekli on işleme adımları yapılarak `grayscaled_images` klasörüne kaydedilmiştir. Bu klasör çalışma dizininde bulunmuyorsa otomatik olarak oluşturulacaktır."
   ]
  },
  {
   "cell_type": "code",
   "execution_count": null,
   "metadata": {},
   "outputs": [],
   "source": [
    "pwd = os.getcwd()\n",
    "source_dir = os.path.join(pwd, 'spectrograms')\n",
    "dest_dir = os.path.join(pwd, 'grayscaled_images')\n",
    "data_list = []\n",
    "\n",
    "for dirpath, dirnames, filenames in os.walk(source_dir):\n",
    "    for filename in filenames:\n",
    "        if filename.endswith('.png'):\n",
    "            source_path = os.path.join(dirpath, filename)\n",
    "            dest_path = os.path.join(dest_dir, os.path.relpath(dirpath, source_dir), filename)\n",
    "            os.makedirs(os.path.dirname(dest_path), exist_ok=True)\n",
    "            convert_image(source_path, dest_path, data_list)"
   ]
  },
  {
   "cell_type": "markdown",
   "metadata": {},
   "source": [
    "Veri ön işleme adımlarından sonra yeni görüntüler ve label değerleri `data_list` değişkeninde tutulmaktadır ve random kütüphanesin `shuffle` metodu sayesinde random bir şekilde karıştırılmıştır. Sonra da bu değerler bir dataframe'e eklenmiştir."
   ]
  },
  {
   "cell_type": "code",
   "execution_count": null,
   "metadata": {},
   "outputs": [],
   "source": [
    "random.shuffle(data_list)\n",
    "data_df = pd.DataFrame(data_list, columns=['spectrogram', 'label'])\n",
    "data_df.head()"
   ]
  },
  {
   "cell_type": "markdown",
   "metadata": {},
   "source": [
    "Dataframe içerisindeki değerleri eğitime hazır hale getirmek için görüntü ve label olmak üzere iki farklı değişkende saklanmaktadır."
   ]
  },
  {
   "cell_type": "code",
   "execution_count": null,
   "metadata": {},
   "outputs": [],
   "source": [
    "df_ = pd.read_csv(\"./UrbanSound8K.csv\")\n",
    "df = df_.copy()\n",
    "\n",
    "print(data_df.shape)\n",
    "print(df.shape)\n",
    "\n",
    "X = data_df[\"spectrogram\"]\n",
    "print(X.head())\n",
    "\n",
    "y = data_df[\"label\"].astype(int)\n",
    "print(y.head())"
   ]
  },
  {
   "cell_type": "markdown",
   "metadata": {},
   "source": [
    "X değişkeni içerisideki verilerin boyutu aşağıdaki kod bloğunun çıktısında görüldüğü gibi 128x128'dir."
   ]
  },
  {
   "cell_type": "code",
   "execution_count": null,
   "metadata": {},
   "outputs": [],
   "source": [
    "X[0].shape"
   ]
  },
  {
   "cell_type": "markdown",
   "metadata": {},
   "source": [
    "X ve y değişkenlerini tek boyuta indirmek ve veri setini split etmeye hazır hale getirmek için aşağıdaki işlem yapılmıştır."
   ]
  },
  {
   "cell_type": "code",
   "execution_count": null,
   "metadata": {},
   "outputs": [],
   "source": [
    "X_data = X\n",
    "y_data = y\n",
    "index_list = []\n",
    "for i in range(len(X_data)):\n",
    "    if X_data[i].shape != (128, 128):\n",
    "        X_data = X_data.drop([i])\n",
    "        y_data = y_data.drop([i])\n",
    "        index_list.append(i)\n",
    "        \n",
    "        \n",
    "X_data = X_data.reset_index(drop=True)\n",
    "y_data = y_data.reset_index(drop=True)\n",
    "\n",
    "print(f\"X shape: {X_data.shape}\")\n",
    "print(f\"y shape: {y_data.shape}\")"
   ]
  },
  {
   "cell_type": "markdown",
   "metadata": {},
   "source": [
    "Veri seti **%80 train**, **%10 test** ve **%10 validation** olacak şekilde split edilmiştir ve label değerleri kategorik değerlere dönüştürülmüştür."
   ]
  },
  {
   "cell_type": "code",
   "execution_count": null,
   "metadata": {},
   "outputs": [],
   "source": [
    "# TRAIN\n",
    "X_train = X_data[int(len(X_data) * .00) : int(len(X_data) * .80)].to_list()\n",
    "X_train = np.asarray(X_train)\n",
    "X_train = X_train.reshape(X_train.shape[0], 128, 128, 1)\n",
    "\n",
    "y_train = y_data[int(len(y_data) * .00) : int(len(y_data) * .80)].to_list()\n",
    "y_train = np.asarray(y_train)\n",
    "y_train = to_categorical(y_train)\n",
    "\n",
    "# VALIDATION\n",
    "X_val = X_data[int(len(X_data) * .80) : int(len(X_data) * .90)].to_list()\n",
    "X_val = np.asarray(X_val)\n",
    "X_val = X_val.reshape(X_val.shape[0], 128, 128, 1)\n",
    "\n",
    "y_val = y_data[int(len(y_data) * .80) : int(len(y_data) * .90)].to_list()\n",
    "y_val = np.asarray(y_val)\n",
    "y_val = to_categorical(y_val)\n",
    "\n",
    "# TEST\n",
    "X_test = X_data[int(len(X_data) * .90) : int(len(X_data) * 100)].to_list()\n",
    "X_test = np.asarray(X_test)\n",
    "X_test = X_test.reshape(X_test.shape[0], 128, 128, 1)\n",
    "\n",
    "y_test = y_data[int(len(y_data) * .90) : int(len(y_data) * 100)].to_list()\n",
    "y_test = np.asarray(y_test)\n",
    "y_test = to_categorical(y_test)\n",
    "\n",
    "# NORMALIZATION\n",
    "X_train = X_train/255\n",
    "X_val = X_val/255\n",
    "X_test = X_test/255"
   ]
  },
  {
   "cell_type": "code",
   "execution_count": null,
   "metadata": {},
   "outputs": [],
   "source": [
    "input_shape = (128,128,1)\n",
    "\n",
    "model = Sequential()\n",
    "\n",
    "model.add(Conv2D(32, kernel_size=(3,3), strides=(1,1), padding=\"same\", activation=\"relu\", input_shape=input_shape))\n",
    "model.add(MaxPooling2D((2,2)))\n",
    "model.add(Dropout(0.2))\n",
    "\n",
    "model.add(Conv2D(64, kernel_size=(3,3), strides=(1,1), padding=\"same\", activation=\"relu\", input_shape=input_shape))\n",
    "\n",
    "model.add(MaxPooling2D((2,2)))\n",
    "model.add(Conv2D(64, kernel_size=(3,3), strides=(1,1), padding=\"same\", activation=\"relu\", input_shape=input_shape))\n",
    "model.add(Dropout(0.2))\n",
    "\n",
    "model.add(Flatten())\n",
    "\n",
    "model.add(Dense(64, activation=\"relu\"))\n",
    "model.add(Dropout(0.5))\n",
    "\n",
    "model.add(Dense(64, activation=\"relu\"))\n",
    "model.add(Dropout(0.5))\n",
    "\n",
    "model.add(Dense(10, activation=\"softmax\"))\n",
    "\n",
    "model.summary()"
   ]
  },
  {
   "cell_type": "code",
   "execution_count": null,
   "metadata": {},
   "outputs": [],
   "source": [
    "model.compile(optimizer=\"adam\", loss=\"categorical_crossentropy\", metrics=[\"accuracy\"])\n",
    "\n",
    "results = model.fit(X_train, y_train, batch_size=128, epochs=50, validation_data=(X_val, y_val))"
   ]
  },
  {
   "cell_type": "code",
   "execution_count": null,
   "metadata": {},
   "outputs": [],
   "source": [
    "loss, acc = model.evaluate(X_test, y_test) \n",
    "print(\"Loss: \",loss)\n",
    "print(\"Accuracy\", acc)"
   ]
  }
 ],
 "metadata": {
  "kernelspec": {
   "display_name": "Python 3.10.6 64-bit",
   "language": "python",
   "name": "python3"
  },
  "language_info": {
   "codemirror_mode": {
    "name": "ipython",
    "version": 3
   },
   "file_extension": ".py",
   "mimetype": "text/x-python",
   "name": "python",
   "nbconvert_exporter": "python",
   "pygments_lexer": "ipython3",
   "version": "3.10.6"
  },
  "orig_nbformat": 4,
  "vscode": {
   "interpreter": {
    "hash": "369f2c481f4da34e4445cda3fffd2e751bd1c4d706f27375911949ba6bb62e1c"
   }
  }
 },
 "nbformat": 4,
 "nbformat_minor": 2
}
